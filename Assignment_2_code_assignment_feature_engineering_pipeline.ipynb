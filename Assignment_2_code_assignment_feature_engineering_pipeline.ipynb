{
  "cells": [
    {
      "cell_type": "markdown",
      "id": "2d1a73ab",
      "metadata": {
        "id": "2d1a73ab"
      },
      "source": [
        "# Create a feature engineering pipeline\n",
        "\n",
        "In Section 1, you tabularized a sales time series dataset to forecast sales for the next week.\n",
        "\n",
        "In this assignment, your task is to line up those feature engineering steps within a pipeline to directly obtain the features from the input data and then forecast sales using Lasso.\n",
        "\n",
        "The most straightforward method is probably to use the open-source library Feature-engine. But you are welcome to use other libraries, code your transformers manually, or, why not, code our own pipeline?\n",
        "\n",
        "To prepare the dataset for this assignment, please follow the guidelines in the notebook `02-create-online-retail-II-datasets.ipynb` in the `01-Create-Datasets` folder."
      ]
    },
    {
      "cell_type": "code",
      "source": [
        "!pip install feature-engine"
      ],
      "metadata": {
        "colab": {
          "base_uri": "https://localhost:8080/"
        },
        "id": "isLxPKgTxWZu",
        "outputId": "7cf0f5ac-fba6-42c1-d95b-ec307c7abd5e"
      },
      "id": "isLxPKgTxWZu",
      "execution_count": 1,
      "outputs": [
        {
          "output_type": "stream",
          "name": "stdout",
          "text": [
            "Looking in indexes: https://pypi.org/simple, https://us-python.pkg.dev/colab-wheels/public/simple/\n",
            "Collecting feature-engine\n",
            "  Downloading feature_engine-1.6.0-py2.py3-none-any.whl (319 kB)\n",
            "\u001b[2K     \u001b[90m━━━━━━━━━━━━━━━━━━━━━━━━━━━━━━━━━━━━━━\u001b[0m \u001b[32m319.4/319.4 kB\u001b[0m \u001b[31m12.1 MB/s\u001b[0m eta \u001b[36m0:00:00\u001b[0m\n",
            "\u001b[?25hRequirement already satisfied: scikit-learn>=1.0.0 in /usr/local/lib/python3.10/dist-packages (from feature-engine) (1.2.2)\n",
            "Requirement already satisfied: numpy>=1.18.2 in /usr/local/lib/python3.10/dist-packages (from feature-engine) (1.22.4)\n",
            "Requirement already satisfied: scipy>=1.4.1 in /usr/local/lib/python3.10/dist-packages (from feature-engine) (1.10.1)\n",
            "Requirement already satisfied: pandas>=1.0.3 in /usr/local/lib/python3.10/dist-packages (from feature-engine) (1.5.3)\n",
            "Requirement already satisfied: statsmodels>=0.11.1 in /usr/local/lib/python3.10/dist-packages (from feature-engine) (0.13.5)\n",
            "Requirement already satisfied: python-dateutil>=2.8.1 in /usr/local/lib/python3.10/dist-packages (from pandas>=1.0.3->feature-engine) (2.8.2)\n",
            "Requirement already satisfied: pytz>=2020.1 in /usr/local/lib/python3.10/dist-packages (from pandas>=1.0.3->feature-engine) (2022.7.1)\n",
            "Requirement already satisfied: joblib>=1.1.1 in /usr/local/lib/python3.10/dist-packages (from scikit-learn>=1.0.0->feature-engine) (1.2.0)\n",
            "Requirement already satisfied: threadpoolctl>=2.0.0 in /usr/local/lib/python3.10/dist-packages (from scikit-learn>=1.0.0->feature-engine) (3.1.0)\n",
            "Requirement already satisfied: packaging>=21.3 in /usr/local/lib/python3.10/dist-packages (from statsmodels>=0.11.1->feature-engine) (23.1)\n",
            "Requirement already satisfied: patsy>=0.5.2 in /usr/local/lib/python3.10/dist-packages (from statsmodels>=0.11.1->feature-engine) (0.5.3)\n",
            "Requirement already satisfied: six in /usr/local/lib/python3.10/dist-packages (from patsy>=0.5.2->statsmodels>=0.11.1->feature-engine) (1.16.0)\n",
            "Installing collected packages: feature-engine\n",
            "Successfully installed feature-engine-1.6.0\n"
          ]
        }
      ]
    },
    {
      "cell_type": "code",
      "source": [
        "# imports\n",
        "\n",
        "import pandas as pd\n",
        "from feature_engine.creation import CyclicalFeatures\n",
        "from feature_engine.datetime import DatetimeFeatures\n",
        "from feature_engine.imputation import DropMissingData\n",
        "from feature_engine.selection import DropFeatures\n",
        "from feature_engine.timeseries.forecasting import (\n",
        "    LagFeatures,\n",
        "    WindowFeatures\n",
        ")\n",
        "from sklearn.pipeline import Pipeline\n",
        "from sklearn.metrics import mean_squared_error\n",
        "from sklearn.linear_model import Lasso"
      ],
      "metadata": {
        "id": "gTsW4Cq-gbfG"
      },
      "id": "gTsW4Cq-gbfG",
      "execution_count": 2,
      "outputs": []
    },
    {
      "cell_type": "markdown",
      "source": [
        "<h2><font face='Comic Sans MS' color='darkblue'><strong> Section 1<font color='blue'>  tabularizing a sales time series dataset to forecast sales for the next week"
      ],
      "metadata": {
        "id": "3nTde9riAPpZ"
      },
      "id": "3nTde9riAPpZ"
    },
    {
      "cell_type": "code",
      "execution_count": 3,
      "id": "f53976d3",
      "metadata": {
        "colab": {
          "base_uri": "https://localhost:8080/",
          "height": 237
        },
        "id": "f53976d3",
        "outputId": "d256e286-a02e-418c-bbe2-0757a02a6c98"
      },
      "outputs": [
        {
          "output_type": "execute_result",
          "data": {
            "text/plain": [
              "                sales\n",
              "week                 \n",
              "2009-12-06  213000.35\n",
              "2009-12-13  195810.04\n",
              "2009-12-20  182396.74\n",
              "2009-12-27   22007.77\n",
              "2010-01-03       0.00"
            ],
            "text/html": [
              "\n",
              "  <div id=\"df-0e999e23-c78b-48c4-ba28-5ce43e133742\">\n",
              "    <div class=\"colab-df-container\">\n",
              "      <div>\n",
              "<style scoped>\n",
              "    .dataframe tbody tr th:only-of-type {\n",
              "        vertical-align: middle;\n",
              "    }\n",
              "\n",
              "    .dataframe tbody tr th {\n",
              "        vertical-align: top;\n",
              "    }\n",
              "\n",
              "    .dataframe thead th {\n",
              "        text-align: right;\n",
              "    }\n",
              "</style>\n",
              "<table border=\"1\" class=\"dataframe\">\n",
              "  <thead>\n",
              "    <tr style=\"text-align: right;\">\n",
              "      <th></th>\n",
              "      <th>sales</th>\n",
              "    </tr>\n",
              "    <tr>\n",
              "      <th>week</th>\n",
              "      <th></th>\n",
              "    </tr>\n",
              "  </thead>\n",
              "  <tbody>\n",
              "    <tr>\n",
              "      <th>2009-12-06</th>\n",
              "      <td>213000.35</td>\n",
              "    </tr>\n",
              "    <tr>\n",
              "      <th>2009-12-13</th>\n",
              "      <td>195810.04</td>\n",
              "    </tr>\n",
              "    <tr>\n",
              "      <th>2009-12-20</th>\n",
              "      <td>182396.74</td>\n",
              "    </tr>\n",
              "    <tr>\n",
              "      <th>2009-12-27</th>\n",
              "      <td>22007.77</td>\n",
              "    </tr>\n",
              "    <tr>\n",
              "      <th>2010-01-03</th>\n",
              "      <td>0.00</td>\n",
              "    </tr>\n",
              "  </tbody>\n",
              "</table>\n",
              "</div>\n",
              "      <button class=\"colab-df-convert\" onclick=\"convertToInteractive('df-0e999e23-c78b-48c4-ba28-5ce43e133742')\"\n",
              "              title=\"Convert this dataframe to an interactive table.\"\n",
              "              style=\"display:none;\">\n",
              "        \n",
              "  <svg xmlns=\"http://www.w3.org/2000/svg\" height=\"24px\"viewBox=\"0 0 24 24\"\n",
              "       width=\"24px\">\n",
              "    <path d=\"M0 0h24v24H0V0z\" fill=\"none\"/>\n",
              "    <path d=\"M18.56 5.44l.94 2.06.94-2.06 2.06-.94-2.06-.94-.94-2.06-.94 2.06-2.06.94zm-11 1L8.5 8.5l.94-2.06 2.06-.94-2.06-.94L8.5 2.5l-.94 2.06-2.06.94zm10 10l.94 2.06.94-2.06 2.06-.94-2.06-.94-.94-2.06-.94 2.06-2.06.94z\"/><path d=\"M17.41 7.96l-1.37-1.37c-.4-.4-.92-.59-1.43-.59-.52 0-1.04.2-1.43.59L10.3 9.45l-7.72 7.72c-.78.78-.78 2.05 0 2.83L4 21.41c.39.39.9.59 1.41.59.51 0 1.02-.2 1.41-.59l7.78-7.78 2.81-2.81c.8-.78.8-2.07 0-2.86zM5.41 20L4 18.59l7.72-7.72 1.47 1.35L5.41 20z\"/>\n",
              "  </svg>\n",
              "      </button>\n",
              "      \n",
              "  <style>\n",
              "    .colab-df-container {\n",
              "      display:flex;\n",
              "      flex-wrap:wrap;\n",
              "      gap: 12px;\n",
              "    }\n",
              "\n",
              "    .colab-df-convert {\n",
              "      background-color: #E8F0FE;\n",
              "      border: none;\n",
              "      border-radius: 50%;\n",
              "      cursor: pointer;\n",
              "      display: none;\n",
              "      fill: #1967D2;\n",
              "      height: 32px;\n",
              "      padding: 0 0 0 0;\n",
              "      width: 32px;\n",
              "    }\n",
              "\n",
              "    .colab-df-convert:hover {\n",
              "      background-color: #E2EBFA;\n",
              "      box-shadow: 0px 1px 2px rgba(60, 64, 67, 0.3), 0px 1px 3px 1px rgba(60, 64, 67, 0.15);\n",
              "      fill: #174EA6;\n",
              "    }\n",
              "\n",
              "    [theme=dark] .colab-df-convert {\n",
              "      background-color: #3B4455;\n",
              "      fill: #D2E3FC;\n",
              "    }\n",
              "\n",
              "    [theme=dark] .colab-df-convert:hover {\n",
              "      background-color: #434B5C;\n",
              "      box-shadow: 0px 1px 3px 1px rgba(0, 0, 0, 0.15);\n",
              "      filter: drop-shadow(0px 1px 2px rgba(0, 0, 0, 0.3));\n",
              "      fill: #FFFFFF;\n",
              "    }\n",
              "  </style>\n",
              "\n",
              "      <script>\n",
              "        const buttonEl =\n",
              "          document.querySelector('#df-0e999e23-c78b-48c4-ba28-5ce43e133742 button.colab-df-convert');\n",
              "        buttonEl.style.display =\n",
              "          google.colab.kernel.accessAllowed ? 'block' : 'none';\n",
              "\n",
              "        async function convertToInteractive(key) {\n",
              "          const element = document.querySelector('#df-0e999e23-c78b-48c4-ba28-5ce43e133742');\n",
              "          const dataTable =\n",
              "            await google.colab.kernel.invokeFunction('convertToInteractive',\n",
              "                                                     [key], {});\n",
              "          if (!dataTable) return;\n",
              "\n",
              "          const docLinkHtml = 'Like what you see? Visit the ' +\n",
              "            '<a target=\"_blank\" href=https://colab.research.google.com/notebooks/data_table.ipynb>data table notebook</a>'\n",
              "            + ' to learn more about interactive tables.';\n",
              "          element.innerHTML = '';\n",
              "          dataTable['output_type'] = 'display_data';\n",
              "          await google.colab.output.renderOutput(dataTable, element);\n",
              "          const docLink = document.createElement('div');\n",
              "          docLink.innerHTML = docLinkHtml;\n",
              "          element.appendChild(docLink);\n",
              "        }\n",
              "      </script>\n",
              "    </div>\n",
              "  </div>\n",
              "  "
            ]
          },
          "metadata": {},
          "execution_count": 3
        }
      ],
      "source": [
        "# load weekly sales dataset\n",
        "\n",
        "# Adjust the following function based on where \n",
        "# you stored the dataset\n",
        "#filename = \"../../../Datasets/online_retail_dataset.csv\"\n",
        "filename = \"/content/online_retail_dataset.csv\"\n",
        "\n",
        "df = pd.read_csv(\n",
        "    filename,\n",
        "    usecols=[\"week\", \"United Kingdom\"],\n",
        "    parse_dates=[\"week\"],\n",
        "    index_col=[\"week\"],\n",
        ")\n",
        "\n",
        "df.columns = ['sales']\n",
        "\n",
        "df.head()"
      ]
    },
    {
      "cell_type": "markdown",
      "id": "cdfe9415",
      "metadata": {
        "id": "cdfe9415"
      },
      "source": [
        "## Plot time series"
      ]
    },
    {
      "cell_type": "code",
      "execution_count": 4,
      "id": "daaea155",
      "metadata": {
        "colab": {
          "base_uri": "https://localhost:8080/",
          "height": 359
        },
        "id": "daaea155",
        "outputId": "d87ef025-8a01-4eb2-a367-8578506a95b6"
      },
      "outputs": [
        {
          "output_type": "execute_result",
          "data": {
            "text/plain": [
              "<Axes: xlabel='week'>"
            ]
          },
          "metadata": {},
          "execution_count": 4
        },
        {
          "output_type": "display_data",
          "data": {
            "text/plain": [
              "<Figure size 1500x400 with 1 Axes>"
            ],
            "image/png": "[encoded data removed]"
          },
          "metadata": {}
        }
      ],
      "source": [
        "df.plot(figsize=[15, 4])"
      ]
    },
    {
      "cell_type": "markdown",
      "id": "e81565cb",
      "metadata": {
        "id": "e81565cb"
      },
      "source": [
        "## Feature engineering\n",
        "\n",
        "These are the feature engineering steps that you need to fit into a pipeline:\n",
        "\n",
        "- Datetime features: Create the feature **month** from the timestamp.\n",
        "- Cyclical features: transform the month with the sine and cosine functions.\n",
        "- Lag features: Create the feature lag-1 by lagging 1 week of data.\n",
        "- Window features: take the min, max and average sales values in the past 2 and 4 weeks of data.\n",
        "- Drop missing data.\n",
        "\n",
        "First set up suitable transformers / transformations and make sure they work."
      ]
    },
    {
      "cell_type": "code",
      "execution_count": 5,
      "id": "f570136f",
      "metadata": {
        "id": "f570136f"
      },
      "outputs": [],
      "source": [
        "# Create the feature month from the timestamp.\n",
        "\n",
        "df[\"month\"] = df.index.month"
      ]
    },
    {
      "cell_type": "code",
      "source": [
        "df.isnull().sum()"
      ],
      "metadata": {
        "colab": {
          "base_uri": "https://localhost:8080/"
        },
        "id": "6SSjCyLyubYL",
        "outputId": "64c7c31b-c469-4be1-9fc5-12e2b165dc86"
      },
      "id": "6SSjCyLyubYL",
      "execution_count": 6,
      "outputs": [
        {
          "output_type": "execute_result",
          "data": {
            "text/plain": [
              "sales    0\n",
              "month    0\n",
              "dtype: int64"
            ]
          },
          "metadata": {},
          "execution_count": 6
        }
      ]
    },
    {
      "cell_type": "code",
      "execution_count": 7,
      "id": "b6854504",
      "metadata": {
        "id": "b6854504"
      },
      "outputs": [],
      "source": [
        "# Transform the month with the sine and cosine functions\n",
        "\n",
        "cyclic = CyclicalFeatures(\n",
        "    variables=['month'],\n",
        "    drop_original=False\n",
        ")\n",
        "\n",
        "df = cyclic.fit_transform(df)"
      ]
    },
    {
      "cell_type": "code",
      "source": [
        "df.head()"
      ],
      "metadata": {
        "colab": {
          "base_uri": "https://localhost:8080/",
          "height": 237
        },
        "id": "nJ6aS2mNybXq",
        "outputId": "6d1694ff-1332-4e08-cb3c-fbf93d2a9ded"
      },
      "id": "nJ6aS2mNybXq",
      "execution_count": 8,
      "outputs": [
        {
          "output_type": "execute_result",
          "data": {
            "text/plain": [
              "                sales  month     month_sin  month_cos\n",
              "week                                                 \n",
              "2009-12-06  213000.35     12 -2.449294e-16   1.000000\n",
              "2009-12-13  195810.04     12 -2.449294e-16   1.000000\n",
              "2009-12-20  182396.74     12 -2.449294e-16   1.000000\n",
              "2009-12-27   22007.77     12 -2.449294e-16   1.000000\n",
              "2010-01-03       0.00      1  5.000000e-01   0.866025"
            ],
            "text/html": [
              "\n",
              "  <div id=\"df-d4b48cee-9975-4caa-b38b-59a77b8c96fe\">\n",
              "    <div class=\"colab-df-container\">\n",
              "      <div>\n",
              "<style scoped>\n",
              "    .dataframe tbody tr th:only-of-type {\n",
              "        vertical-align: middle;\n",
              "    }\n",
              "\n",
              "    .dataframe tbody tr th {\n",
              "        vertical-align: top;\n",
              "    }\n",
              "\n",
              "    .dataframe thead th {\n",
              "        text-align: right;\n",
              "    }\n",
              "</style>\n",
              "<table border=\"1\" class=\"dataframe\">\n",
              "  <thead>\n",
              "    <tr style=\"text-align: right;\">\n",
              "      <th></th>\n",
              "      <th>sales</th>\n",
              "      <th>month</th>\n",
              "      <th>month_sin</th>\n",
              "      <th>month_cos</th>\n",
              "    </tr>\n",
              "    <tr>\n",
              "      <th>week</th>\n",
              "      <th></th>\n",
              "      <th></th>\n",
              "      <th></th>\n",
              "      <th></th>\n",
              "    </tr>\n",
              "  </thead>\n",
              "  <tbody>\n",
              "    <tr>\n",
              "      <th>2009-12-06</th>\n",
              "      <td>213000.35</td>\n",
              "      <td>12</td>\n",
              "      <td>-2.449294e-16</td>\n",
              "      <td>1.000000</td>\n",
              "    </tr>\n",
              "    <tr>\n",
              "      <th>2009-12-13</th>\n",
              "      <td>195810.04</td>\n",
              "      <td>12</td>\n",
              "      <td>-2.449294e-16</td>\n",
              "      <td>1.000000</td>\n",
              "    </tr>\n",
              "    <tr>\n",
              "      <th>2009-12-20</th>\n",
              "      <td>182396.74</td>\n",
              "      <td>12</td>\n",
              "      <td>-2.449294e-16</td>\n",
              "      <td>1.000000</td>\n",
              "    </tr>\n",
              "    <tr>\n",
              "      <th>2009-12-27</th>\n",
              "      <td>22007.77</td>\n",
              "      <td>12</td>\n",
              "      <td>-2.449294e-16</td>\n",
              "      <td>1.000000</td>\n",
              "    </tr>\n",
              "    <tr>\n",
              "      <th>2010-01-03</th>\n",
              "      <td>0.00</td>\n",
              "      <td>1</td>\n",
              "      <td>5.000000e-01</td>\n",
              "      <td>0.866025</td>\n",
              "    </tr>\n",
              "  </tbody>\n",
              "</table>\n",
              "</div>\n",
              "      <button class=\"colab-df-convert\" onclick=\"convertToInteractive('df-d4b48cee-9975-4caa-b38b-59a77b8c96fe')\"\n",
              "              title=\"Convert this dataframe to an interactive table.\"\n",
              "              style=\"display:none;\">\n",
              "        \n",
              "  <svg xmlns=\"http://www.w3.org/2000/svg\" height=\"24px\"viewBox=\"0 0 24 24\"\n",
              "       width=\"24px\">\n",
              "    <path d=\"M0 0h24v24H0V0z\" fill=\"none\"/>\n",
              "    <path d=\"M18.56 5.44l.94 2.06.94-2.06 2.06-.94-2.06-.94-.94-2.06-.94 2.06-2.06.94zm-11 1L8.5 8.5l.94-2.06 2.06-.94-2.06-.94L8.5 2.5l-.94 2.06-2.06.94zm10 10l.94 2.06.94-2.06 2.06-.94-2.06-.94-.94-2.06-.94 2.06-2.06.94z\"/><path d=\"M17.41 7.96l-1.37-1.37c-.4-.4-.92-.59-1.43-.59-.52 0-1.04.2-1.43.59L10.3 9.45l-7.72 7.72c-.78.78-.78 2.05 0 2.83L4 21.41c.39.39.9.59 1.41.59.51 0 1.02-.2 1.41-.59l7.78-7.78 2.81-2.81c.8-.78.8-2.07 0-2.86zM5.41 20L4 18.59l7.72-7.72 1.47 1.35L5.41 20z\"/>\n",
              "  </svg>\n",
              "      </button>\n",
              "      \n",
              "  <style>\n",
              "    .colab-df-container {\n",
              "      display:flex;\n",
              "      flex-wrap:wrap;\n",
              "      gap: 12px;\n",
              "    }\n",
              "\n",
              "    .colab-df-convert {\n",
              "      background-color: #E8F0FE;\n",
              "      border: none;\n",
              "      border-radius: 50%;\n",
              "      cursor: pointer;\n",
              "      display: none;\n",
              "      fill: #1967D2;\n",
              "      height: 32px;\n",
              "      padding: 0 0 0 0;\n",
              "      width: 32px;\n",
              "    }\n",
              "\n",
              "    .colab-df-convert:hover {\n",
              "      background-color: #E2EBFA;\n",
              "      box-shadow: 0px 1px 2px rgba(60, 64, 67, 0.3), 0px 1px 3px 1px rgba(60, 64, 67, 0.15);\n",
              "      fill: #174EA6;\n",
              "    }\n",
              "\n",
              "    [theme=dark] .colab-df-convert {\n",
              "      background-color: #3B4455;\n",
              "      fill: #D2E3FC;\n",
              "    }\n",
              "\n",
              "    [theme=dark] .colab-df-convert:hover {\n",
              "      background-color: #434B5C;\n",
              "      box-shadow: 0px 1px 3px 1px rgba(0, 0, 0, 0.15);\n",
              "      filter: drop-shadow(0px 1px 2px rgba(0, 0, 0, 0.3));\n",
              "      fill: #FFFFFF;\n",
              "    }\n",
              "  </style>\n",
              "\n",
              "      <script>\n",
              "        const buttonEl =\n",
              "          document.querySelector('#df-d4b48cee-9975-4caa-b38b-59a77b8c96fe button.colab-df-convert');\n",
              "        buttonEl.style.display =\n",
              "          google.colab.kernel.accessAllowed ? 'block' : 'none';\n",
              "\n",
              "        async function convertToInteractive(key) {\n",
              "          const element = document.querySelector('#df-d4b48cee-9975-4caa-b38b-59a77b8c96fe');\n",
              "          const dataTable =\n",
              "            await google.colab.kernel.invokeFunction('convertToInteractive',\n",
              "                                                     [key], {});\n",
              "          if (!dataTable) return;\n",
              "\n",
              "          const docLinkHtml = 'Like what you see? Visit the ' +\n",
              "            '<a target=\"_blank\" href=https://colab.research.google.com/notebooks/data_table.ipynb>data table notebook</a>'\n",
              "            + ' to learn more about interactive tables.';\n",
              "          element.innerHTML = '';\n",
              "          dataTable['output_type'] = 'display_data';\n",
              "          await google.colab.output.renderOutput(dataTable, element);\n",
              "          const docLink = document.createElement('div');\n",
              "          docLink.innerHTML = docLinkHtml;\n",
              "          element.appendChild(docLink);\n",
              "        }\n",
              "      </script>\n",
              "    </div>\n",
              "  </div>\n",
              "  "
            ]
          },
          "metadata": {},
          "execution_count": 8
        }
      ]
    },
    {
      "cell_type": "code",
      "execution_count": 9,
      "id": "a9beb4fa",
      "metadata": {
        "id": "a9beb4fa"
      },
      "outputs": [],
      "source": [
        "# Create the feature lag-1 by lagging 1 week of data.\n",
        "\n",
        "variables = ['sales']\n",
        "\n",
        "temp = df[variables].shift(freq='W')\n",
        "\n",
        "temp.columns = [var + '_lag_1' for var in variables]\n",
        "\n",
        "df = df.merge(temp, left_index=True, right_index=True, how='right')"
      ]
    },
    {
      "cell_type": "code",
      "source": [
        "df.head()"
      ],
      "metadata": {
        "colab": {
          "base_uri": "https://localhost:8080/",
          "height": 237
        },
        "id": "r90DtiiYJsTY",
        "outputId": "0e712b49-c9d5-4396-a39f-2b4ddde9f29a"
      },
      "id": "r90DtiiYJsTY",
      "execution_count": 10,
      "outputs": [
        {
          "output_type": "execute_result",
          "data": {
            "text/plain": [
              "                sales  month     month_sin  month_cos  sales_lag_1\n",
              "week                                                              \n",
              "2009-12-13  195810.04   12.0 -2.449294e-16   1.000000    213000.35\n",
              "2009-12-20  182396.74   12.0 -2.449294e-16   1.000000    195810.04\n",
              "2009-12-27   22007.77   12.0 -2.449294e-16   1.000000    182396.74\n",
              "2010-01-03       0.00    1.0  5.000000e-01   0.866025     22007.77\n",
              "2010-01-10  112318.85    1.0  5.000000e-01   0.866025         0.00"
            ],
            "text/html": [
              "\n",
              "  <div id=\"df-d458f2f7-9994-4e89-aaf1-3dd9ddf3db89\">\n",
              "    <div class=\"colab-df-container\">\n",
              "      <div>\n",
              "<style scoped>\n",
              "    .dataframe tbody tr th:only-of-type {\n",
              "        vertical-align: middle;\n",
              "    }\n",
              "\n",
              "    .dataframe tbody tr th {\n",
              "        vertical-align: top;\n",
              "    }\n",
              "\n",
              "    .dataframe thead th {\n",
              "        text-align: right;\n",
              "    }\n",
              "</style>\n",
              "<table border=\"1\" class=\"dataframe\">\n",
              "  <thead>\n",
              "    <tr style=\"text-align: right;\">\n",
              "      <th></th>\n",
              "      <th>sales</th>\n",
              "      <th>month</th>\n",
              "      <th>month_sin</th>\n",
              "      <th>month_cos</th>\n",
              "      <th>sales_lag_1</th>\n",
              "    </tr>\n",
              "    <tr>\n",
              "      <th>week</th>\n",
              "      <th></th>\n",
              "      <th></th>\n",
              "      <th></th>\n",
              "      <th></th>\n",
              "      <th></th>\n",
              "    </tr>\n",
              "  </thead>\n",
              "  <tbody>\n",
              "    <tr>\n",
              "      <th>2009-12-13</th>\n",
              "      <td>195810.04</td>\n",
              "      <td>12.0</td>\n",
              "      <td>-2.449294e-16</td>\n",
              "      <td>1.000000</td>\n",
              "      <td>213000.35</td>\n",
              "    </tr>\n",
              "    <tr>\n",
              "      <th>2009-12-20</th>\n",
              "      <td>182396.74</td>\n",
              "      <td>12.0</td>\n",
              "      <td>-2.449294e-16</td>\n",
              "      <td>1.000000</td>\n",
              "      <td>195810.04</td>\n",
              "    </tr>\n",
              "    <tr>\n",
              "      <th>2009-12-27</th>\n",
              "      <td>22007.77</td>\n",
              "      <td>12.0</td>\n",
              "      <td>-2.449294e-16</td>\n",
              "      <td>1.000000</td>\n",
              "      <td>182396.74</td>\n",
              "    </tr>\n",
              "    <tr>\n",
              "      <th>2010-01-03</th>\n",
              "      <td>0.00</td>\n",
              "      <td>1.0</td>\n",
              "      <td>5.000000e-01</td>\n",
              "      <td>0.866025</td>\n",
              "      <td>22007.77</td>\n",
              "    </tr>\n",
              "    <tr>\n",
              "      <th>2010-01-10</th>\n",
              "      <td>112318.85</td>\n",
              "      <td>1.0</td>\n",
              "      <td>5.000000e-01</td>\n",
              "      <td>0.866025</td>\n",
              "      <td>0.00</td>\n",
              "    </tr>\n",
              "  </tbody>\n",
              "</table>\n",
              "</div>\n",
              "      <button class=\"colab-df-convert\" onclick=\"convertToInteractive('df-d458f2f7-9994-4e89-aaf1-3dd9ddf3db89')\"\n",
              "              title=\"Convert this dataframe to an interactive table.\"\n",
              "              style=\"display:none;\">\n",
              "        \n",
              "  <svg xmlns=\"http://www.w3.org/2000/svg\" height=\"24px\"viewBox=\"0 0 24 24\"\n",
              "       width=\"24px\">\n",
              "    <path d=\"M0 0h24v24H0V0z\" fill=\"none\"/>\n",
              "    <path d=\"M18.56 5.44l.94 2.06.94-2.06 2.06-.94-2.06-.94-.94-2.06-.94 2.06-2.06.94zm-11 1L8.5 8.5l.94-2.06 2.06-.94-2.06-.94L8.5 2.5l-.94 2.06-2.06.94zm10 10l.94 2.06.94-2.06 2.06-.94-2.06-.94-.94-2.06-.94 2.06-2.06.94z\"/><path d=\"M17.41 7.96l-1.37-1.37c-.4-.4-.92-.59-1.43-.59-.52 0-1.04.2-1.43.59L10.3 9.45l-7.72 7.72c-.78.78-.78 2.05 0 2.83L4 21.41c.39.39.9.59 1.41.59.51 0 1.02-.2 1.41-.59l7.78-7.78 2.81-2.81c.8-.78.8-2.07 0-2.86zM5.41 20L4 18.59l7.72-7.72 1.47 1.35L5.41 20z\"/>\n",
              "  </svg>\n",
              "      </button>\n",
              "      \n",
              "  <style>\n",
              "    .colab-df-container {\n",
              "      display:flex;\n",
              "      flex-wrap:wrap;\n",
              "      gap: 12px;\n",
              "    }\n",
              "\n",
              "    .colab-df-convert {\n",
              "      background-color: #E8F0FE;\n",
              "      border: none;\n",
              "      border-radius: 50%;\n",
              "      cursor: pointer;\n",
              "      display: none;\n",
              "      fill: #1967D2;\n",
              "      height: 32px;\n",
              "      padding: 0 0 0 0;\n",
              "      width: 32px;\n",
              "    }\n",
              "\n",
              "    .colab-df-convert:hover {\n",
              "      background-color: #E2EBFA;\n",
              "      box-shadow: 0px 1px 2px rgba(60, 64, 67, 0.3), 0px 1px 3px 1px rgba(60, 64, 67, 0.15);\n",
              "      fill: #174EA6;\n",
              "    }\n",
              "\n",
              "    [theme=dark] .colab-df-convert {\n",
              "      background-color: #3B4455;\n",
              "      fill: #D2E3FC;\n",
              "    }\n",
              "\n",
              "    [theme=dark] .colab-df-convert:hover {\n",
              "      background-color: #434B5C;\n",
              "      box-shadow: 0px 1px 3px 1px rgba(0, 0, 0, 0.15);\n",
              "      filter: drop-shadow(0px 1px 2px rgba(0, 0, 0, 0.3));\n",
              "      fill: #FFFFFF;\n",
              "    }\n",
              "  </style>\n",
              "\n",
              "      <script>\n",
              "        const buttonEl =\n",
              "          document.querySelector('#df-d458f2f7-9994-4e89-aaf1-3dd9ddf3db89 button.colab-df-convert');\n",
              "        buttonEl.style.display =\n",
              "          google.colab.kernel.accessAllowed ? 'block' : 'none';\n",
              "\n",
              "        async function convertToInteractive(key) {\n",
              "          const element = document.querySelector('#df-d458f2f7-9994-4e89-aaf1-3dd9ddf3db89');\n",
              "          const dataTable =\n",
              "            await google.colab.kernel.invokeFunction('convertToInteractive',\n",
              "                                                     [key], {});\n",
              "          if (!dataTable) return;\n",
              "\n",
              "          const docLinkHtml = 'Like what you see? Visit the ' +\n",
              "            '<a target=\"_blank\" href=https://colab.research.google.com/notebooks/data_table.ipynb>data table notebook</a>'\n",
              "            + ' to learn more about interactive tables.';\n",
              "          element.innerHTML = '';\n",
              "          dataTable['output_type'] = 'display_data';\n",
              "          await google.colab.output.renderOutput(dataTable, element);\n",
              "          const docLink = document.createElement('div');\n",
              "          docLink.innerHTML = docLinkHtml;\n",
              "          element.appendChild(docLink);\n",
              "        }\n",
              "      </script>\n",
              "    </div>\n",
              "  </div>\n",
              "  "
            ]
          },
          "metadata": {},
          "execution_count": 10
        }
      ]
    },
    {
      "cell_type": "code",
      "execution_count": 11,
      "id": "53fd60ae",
      "metadata": {
        "id": "53fd60ae"
      },
      "outputs": [],
      "source": [
        "# Here we take the average, maximum, and minimum values\n",
        "# of the previous 2 and 4 weeks.\n",
        "\n",
        "variables=['sales']\n",
        "\n",
        "temp_2W_avg = df[variables].rolling(2).mean().shift(freq='1W')\n",
        "\n",
        "temp_2W_avg.columns = [v +'_window_2W_avg' for v in variables]\n",
        "\n",
        "temp_4W_avg = df[variables].rolling(4).mean().shift(freq='1W')\n",
        "\n",
        "temp_4W_avg.columns = [v +'_window_4W_avg' for v in variables]\n",
        "\n",
        "temp_2W_max = df[variables].rolling(2).max().shift(freq='1W')\n",
        "\n",
        "temp_2W_max.columns = [v +'_window_2W_max' for v in variables]\n",
        "\n",
        "temp_4W_max = df[variables].rolling(4).max().shift(freq='1W')\n",
        "\n",
        "temp_4W_max.columns = [v +'_window_4W_max' for v in variables]\n",
        "\n",
        "temp_2W_min = df[variables].rolling(2).min().shift(freq='1W')\n",
        "\n",
        "temp_2W_min.columns = [v +'_window_2W_min' for v in variables]\n",
        "\n",
        "temp_4W_min = df[variables].rolling(4).min().shift(freq='1W')\n",
        "\n",
        "temp_4W_min.columns = [v +'_window_4W_min' for v in variables]"
      ]
    },
    {
      "cell_type": "code",
      "source": [
        "dfs = [temp_2W_avg, temp_4W_avg, temp_2W_max, temp_4W_max, temp_2W_min, temp_4W_min]\n",
        "\n",
        "temp = pd.concat(dfs, join='outer', axis=1)"
      ],
      "metadata": {
        "id": "zADdJi9UPoUp"
      },
      "id": "zADdJi9UPoUp",
      "execution_count": 12,
      "outputs": []
    },
    {
      "cell_type": "code",
      "source": [
        "temp.head()"
      ],
      "metadata": {
        "colab": {
          "base_uri": "https://localhost:8080/",
          "height": 368
        },
        "id": "w29y4k9qYXzm",
        "outputId": "b33d2ca2-eb58-40ad-9a38-3ba170469924"
      },
      "id": "w29y4k9qYXzm",
      "execution_count": 13,
      "outputs": [
        {
          "output_type": "execute_result",
          "data": {
            "text/plain": [
              "            sales_window_2W_avg  sales_window_4W_avg  sales_window_2W_max  \\\n",
              "week                                                                        \n",
              "2009-12-20                  NaN                  NaN                  NaN   \n",
              "2009-12-27           189103.390                  NaN            195810.04   \n",
              "2010-01-03           102202.255                  NaN            182396.74   \n",
              "2010-01-10            11003.885          100053.6375             22007.77   \n",
              "2010-01-17            56159.425           79180.8400            112318.85   \n",
              "\n",
              "            sales_window_4W_max  sales_window_2W_min  sales_window_4W_min  \n",
              "week                                                                       \n",
              "2009-12-20                  NaN                  NaN                  NaN  \n",
              "2009-12-27                  NaN            182396.74                  NaN  \n",
              "2010-01-03                  NaN             22007.77                  NaN  \n",
              "2010-01-10            195810.04                 0.00                  0.0  \n",
              "2010-01-17            182396.74                 0.00                  0.0  "
            ],
            "text/html": [
              "\n",
              "  <div id=\"df-d966260e-957e-46bc-9876-84eb56e51a33\">\n",
              "    <div class=\"colab-df-container\">\n",
              "      <div>\n",
              "<style scoped>\n",
              "    .dataframe tbody tr th:only-of-type {\n",
              "        vertical-align: middle;\n",
              "    }\n",
              "\n",
              "    .dataframe tbody tr th {\n",
              "        vertical-align: top;\n",
              "    }\n",
              "\n",
              "    .dataframe thead th {\n",
              "        text-align: right;\n",
              "    }\n",
              "</style>\n",
              "<table border=\"1\" class=\"dataframe\">\n",
              "  <thead>\n",
              "    <tr style=\"text-align: right;\">\n",
              "      <th></th>\n",
              "      <th>sales_window_2W_avg</th>\n",
              "      <th>sales_window_4W_avg</th>\n",
              "      <th>sales_window_2W_max</th>\n",
              "      <th>sales_window_4W_max</th>\n",
              "      <th>sales_window_2W_min</th>\n",
              "      <th>sales_window_4W_min</th>\n",
              "    </tr>\n",
              "    <tr>\n",
              "      <th>week</th>\n",
              "      <th></th>\n",
              "      <th></th>\n",
              "      <th></th>\n",
              "      <th></th>\n",
              "      <th></th>\n",
              "      <th></th>\n",
              "    </tr>\n",
              "  </thead>\n",
              "  <tbody>\n",
              "    <tr>\n",
              "      <th>2009-12-20</th>\n",
              "      <td>NaN</td>\n",
              "      <td>NaN</td>\n",
              "      <td>NaN</td>\n",
              "      <td>NaN</td>\n",
              "      <td>NaN</td>\n",
              "      <td>NaN</td>\n",
              "    </tr>\n",
              "    <tr>\n",
              "      <th>2009-12-27</th>\n",
              "      <td>189103.390</td>\n",
              "      <td>NaN</td>\n",
              "      <td>195810.04</td>\n",
              "      <td>NaN</td>\n",
              "      <td>182396.74</td>\n",
              "      <td>NaN</td>\n",
              "    </tr>\n",
              "    <tr>\n",
              "      <th>2010-01-03</th>\n",
              "      <td>102202.255</td>\n",
              "      <td>NaN</td>\n",
              "      <td>182396.74</td>\n",
              "      <td>NaN</td>\n",
              "      <td>22007.77</td>\n",
              "      <td>NaN</td>\n",
              "    </tr>\n",
              "    <tr>\n",
              "      <th>2010-01-10</th>\n",
              "      <td>11003.885</td>\n",
              "      <td>100053.6375</td>\n",
              "      <td>22007.77</td>\n",
              "      <td>195810.04</td>\n",
              "      <td>0.00</td>\n",
              "      <td>0.0</td>\n",
              "    </tr>\n",
              "    <tr>\n",
              "      <th>2010-01-17</th>\n",
              "      <td>56159.425</td>\n",
              "      <td>79180.8400</td>\n",
              "      <td>112318.85</td>\n",
              "      <td>182396.74</td>\n",
              "      <td>0.00</td>\n",
              "      <td>0.0</td>\n",
              "    </tr>\n",
              "  </tbody>\n",
              "</table>\n",
              "</div>\n",
              "      <button class=\"colab-df-convert\" onclick=\"convertToInteractive('df-d966260e-957e-46bc-9876-84eb56e51a33')\"\n",
              "              title=\"Convert this dataframe to an interactive table.\"\n",
              "              style=\"display:none;\">\n",
              "        \n",
              "  <svg xmlns=\"http://www.w3.org/2000/svg\" height=\"24px\"viewBox=\"0 0 24 24\"\n",
              "       width=\"24px\">\n",
              "    <path d=\"M0 0h24v24H0V0z\" fill=\"none\"/>\n",
              "    <path d=\"M18.56 5.44l.94 2.06.94-2.06 2.06-.94-2.06-.94-.94-2.06-.94 2.06-2.06.94zm-11 1L8.5 8.5l.94-2.06 2.06-.94-2.06-.94L8.5 2.5l-.94 2.06-2.06.94zm10 10l.94 2.06.94-2.06 2.06-.94-2.06-.94-.94-2.06-.94 2.06-2.06.94z\"/><path d=\"M17.41 7.96l-1.37-1.37c-.4-.4-.92-.59-1.43-.59-.52 0-1.04.2-1.43.59L10.3 9.45l-7.72 7.72c-.78.78-.78 2.05 0 2.83L4 21.41c.39.39.9.59 1.41.59.51 0 1.02-.2 1.41-.59l7.78-7.78 2.81-2.81c.8-.78.8-2.07 0-2.86zM5.41 20L4 18.59l7.72-7.72 1.47 1.35L5.41 20z\"/>\n",
              "  </svg>\n",
              "      </button>\n",
              "      \n",
              "  <style>\n",
              "    .colab-df-container {\n",
              "      display:flex;\n",
              "      flex-wrap:wrap;\n",
              "      gap: 12px;\n",
              "    }\n",
              "\n",
              "    .colab-df-convert {\n",
              "      background-color: #E8F0FE;\n",
              "      border: none;\n",
              "      border-radius: 50%;\n",
              "      cursor: pointer;\n",
              "      display: none;\n",
              "      fill: #1967D2;\n",
              "      height: 32px;\n",
              "      padding: 0 0 0 0;\n",
              "      width: 32px;\n",
              "    }\n",
              "\n",
              "    .colab-df-convert:hover {\n",
              "      background-color: #E2EBFA;\n",
              "      box-shadow: 0px 1px 2px rgba(60, 64, 67, 0.3), 0px 1px 3px 1px rgba(60, 64, 67, 0.15);\n",
              "      fill: #174EA6;\n",
              "    }\n",
              "\n",
              "    [theme=dark] .colab-df-convert {\n",
              "      background-color: #3B4455;\n",
              "      fill: #D2E3FC;\n",
              "    }\n",
              "\n",
              "    [theme=dark] .colab-df-convert:hover {\n",
              "      background-color: #434B5C;\n",
              "      box-shadow: 0px 1px 3px 1px rgba(0, 0, 0, 0.15);\n",
              "      filter: drop-shadow(0px 1px 2px rgba(0, 0, 0, 0.3));\n",
              "      fill: #FFFFFF;\n",
              "    }\n",
              "  </style>\n",
              "\n",
              "      <script>\n",
              "        const buttonEl =\n",
              "          document.querySelector('#df-d966260e-957e-46bc-9876-84eb56e51a33 button.colab-df-convert');\n",
              "        buttonEl.style.display =\n",
              "          google.colab.kernel.accessAllowed ? 'block' : 'none';\n",
              "\n",
              "        async function convertToInteractive(key) {\n",
              "          const element = document.querySelector('#df-d966260e-957e-46bc-9876-84eb56e51a33');\n",
              "          const dataTable =\n",
              "            await google.colab.kernel.invokeFunction('convertToInteractive',\n",
              "                                                     [key], {});\n",
              "          if (!dataTable) return;\n",
              "\n",
              "          const docLinkHtml = 'Like what you see? Visit the ' +\n",
              "            '<a target=\"_blank\" href=https://colab.research.google.com/notebooks/data_table.ipynb>data table notebook</a>'\n",
              "            + ' to learn more about interactive tables.';\n",
              "          element.innerHTML = '';\n",
              "          dataTable['output_type'] = 'display_data';\n",
              "          await google.colab.output.renderOutput(dataTable, element);\n",
              "          const docLink = document.createElement('div');\n",
              "          docLink.innerHTML = docLinkHtml;\n",
              "          element.appendChild(docLink);\n",
              "        }\n",
              "      </script>\n",
              "    </div>\n",
              "  </div>\n",
              "  "
            ]
          },
          "metadata": {},
          "execution_count": 13
        }
      ]
    },
    {
      "cell_type": "code",
      "source": [
        "temp.shape, df.shape"
      ],
      "metadata": {
        "colab": {
          "base_uri": "https://localhost:8080/"
        },
        "id": "QlQrjjjYROBF",
        "outputId": "fcde1c50-1e77-4ebb-9648-4d29c5e20931"
      },
      "id": "QlQrjjjYROBF",
      "execution_count": 14,
      "outputs": [
        {
          "output_type": "execute_result",
          "data": {
            "text/plain": [
              "((106, 6), (106, 5))"
            ]
          },
          "metadata": {},
          "execution_count": 14
        }
      ]
    },
    {
      "cell_type": "code",
      "source": [
        "# lets merge window features with the dataset\n",
        "\n",
        "df = df.merge(temp, left_index=True, right_index=True, how='right')"
      ],
      "metadata": {
        "id": "Yo0HQDahYtGe"
      },
      "id": "Yo0HQDahYtGe",
      "execution_count": 15,
      "outputs": []
    },
    {
      "cell_type": "code",
      "source": [
        "df.head()"
      ],
      "metadata": {
        "colab": {
          "base_uri": "https://localhost:8080/",
          "height": 388
        },
        "id": "aHAFTbN6ZXWL",
        "outputId": "5556f4f7-0491-4681-e47a-ea0406289c6b"
      },
      "id": "aHAFTbN6ZXWL",
      "execution_count": 16,
      "outputs": [
        {
          "output_type": "execute_result",
          "data": {
            "text/plain": [
              "                sales  month     month_sin  month_cos  sales_lag_1  \\\n",
              "week                                                                 \n",
              "2009-12-20  182396.74   12.0 -2.449294e-16   1.000000    195810.04   \n",
              "2009-12-27   22007.77   12.0 -2.449294e-16   1.000000    182396.74   \n",
              "2010-01-03       0.00    1.0  5.000000e-01   0.866025     22007.77   \n",
              "2010-01-10  112318.85    1.0  5.000000e-01   0.866025         0.00   \n",
              "2010-01-17  111460.47    1.0  5.000000e-01   0.866025    112318.85   \n",
              "\n",
              "            sales_window_2W_avg  sales_window_4W_avg  sales_window_2W_max  \\\n",
              "week                                                                        \n",
              "2009-12-20                  NaN                  NaN                  NaN   \n",
              "2009-12-27           189103.390                  NaN            195810.04   \n",
              "2010-01-03           102202.255                  NaN            182396.74   \n",
              "2010-01-10            11003.885          100053.6375             22007.77   \n",
              "2010-01-17            56159.425           79180.8400            112318.85   \n",
              "\n",
              "            sales_window_4W_max  sales_window_2W_min  sales_window_4W_min  \n",
              "week                                                                       \n",
              "2009-12-20                  NaN                  NaN                  NaN  \n",
              "2009-12-27                  NaN            182396.74                  NaN  \n",
              "2010-01-03                  NaN             22007.77                  NaN  \n",
              "2010-01-10            195810.04                 0.00                  0.0  \n",
              "2010-01-17            182396.74                 0.00                  0.0  "
            ],
            "text/html": [
              "\n",
              "  <div id=\"df-613f575d-bdd2-439b-a9df-c17b7806c702\">\n",
              "    <div class=\"colab-df-container\">\n",
              "      <div>\n",
              "<style scoped>\n",
              "    .dataframe tbody tr th:only-of-type {\n",
              "        vertical-align: middle;\n",
              "    }\n",
              "\n",
              "    .dataframe tbody tr th {\n",
              "        vertical-align: top;\n",
              "    }\n",
              "\n",
              "    .dataframe thead th {\n",
              "        text-align: right;\n",
              "    }\n",
              "</style>\n",
              "<table border=\"1\" class=\"dataframe\">\n",
              "  <thead>\n",
              "    <tr style=\"text-align: right;\">\n",
              "      <th></th>\n",
              "      <th>sales</th>\n",
              "      <th>month</th>\n",
              "      <th>month_sin</th>\n",
              "      <th>month_cos</th>\n",
              "      <th>sales_lag_1</th>\n",
              "      <th>sales_window_2W_avg</th>\n",
              "      <th>sales_window_4W_avg</th>\n",
              "      <th>sales_window_2W_max</th>\n",
              "      <th>sales_window_4W_max</th>\n",
              "      <th>sales_window_2W_min</th>\n",
              "      <th>sales_window_4W_min</th>\n",
              "    </tr>\n",
              "    <tr>\n",
              "      <th>week</th>\n",
              "      <th></th>\n",
              "      <th></th>\n",
              "      <th></th>\n",
              "      <th></th>\n",
              "      <th></th>\n",
              "      <th></th>\n",
              "      <th></th>\n",
              "      <th></th>\n",
              "      <th></th>\n",
              "      <th></th>\n",
              "      <th></th>\n",
              "    </tr>\n",
              "  </thead>\n",
              "  <tbody>\n",
              "    <tr>\n",
              "      <th>2009-12-20</th>\n",
              "      <td>182396.74</td>\n",
              "      <td>12.0</td>\n",
              "      <td>-2.449294e-16</td>\n",
              "      <td>1.000000</td>\n",
              "      <td>195810.04</td>\n",
              "      <td>NaN</td>\n",
              "      <td>NaN</td>\n",
              "      <td>NaN</td>\n",
              "      <td>NaN</td>\n",
              "      <td>NaN</td>\n",
              "      <td>NaN</td>\n",
              "    </tr>\n",
              "    <tr>\n",
              "      <th>2009-12-27</th>\n",
              "      <td>22007.77</td>\n",
              "      <td>12.0</td>\n",
              "      <td>-2.449294e-16</td>\n",
              "      <td>1.000000</td>\n",
              "      <td>182396.74</td>\n",
              "      <td>189103.390</td>\n",
              "      <td>NaN</td>\n",
              "      <td>195810.04</td>\n",
              "      <td>NaN</td>\n",
              "      <td>182396.74</td>\n",
              "      <td>NaN</td>\n",
              "    </tr>\n",
              "    <tr>\n",
              "      <th>2010-01-03</th>\n",
              "      <td>0.00</td>\n",
              "      <td>1.0</td>\n",
              "      <td>5.000000e-01</td>\n",
              "      <td>0.866025</td>\n",
              "      <td>22007.77</td>\n",
              "      <td>102202.255</td>\n",
              "      <td>NaN</td>\n",
              "      <td>182396.74</td>\n",
              "      <td>NaN</td>\n",
              "      <td>22007.77</td>\n",
              "      <td>NaN</td>\n",
              "    </tr>\n",
              "    <tr>\n",
              "      <th>2010-01-10</th>\n",
              "      <td>112318.85</td>\n",
              "      <td>1.0</td>\n",
              "      <td>5.000000e-01</td>\n",
              "      <td>0.866025</td>\n",
              "      <td>0.00</td>\n",
              "      <td>11003.885</td>\n",
              "      <td>100053.6375</td>\n",
              "      <td>22007.77</td>\n",
              "      <td>195810.04</td>\n",
              "      <td>0.00</td>\n",
              "      <td>0.0</td>\n",
              "    </tr>\n",
              "    <tr>\n",
              "      <th>2010-01-17</th>\n",
              "      <td>111460.47</td>\n",
              "      <td>1.0</td>\n",
              "      <td>5.000000e-01</td>\n",
              "      <td>0.866025</td>\n",
              "      <td>112318.85</td>\n",
              "      <td>56159.425</td>\n",
              "      <td>79180.8400</td>\n",
              "      <td>112318.85</td>\n",
              "      <td>182396.74</td>\n",
              "      <td>0.00</td>\n",
              "      <td>0.0</td>\n",
              "    </tr>\n",
              "  </tbody>\n",
              "</table>\n",
              "</div>\n",
              "      <button class=\"colab-df-convert\" onclick=\"convertToInteractive('df-613f575d-bdd2-439b-a9df-c17b7806c702')\"\n",
              "              title=\"Convert this dataframe to an interactive table.\"\n",
              "              style=\"display:none;\">\n",
              "        \n",
              "  <svg xmlns=\"http://www.w3.org/2000/svg\" height=\"24px\"viewBox=\"0 0 24 24\"\n",
              "       width=\"24px\">\n",
              "    <path d=\"M0 0h24v24H0V0z\" fill=\"none\"/>\n",
              "    <path d=\"M18.56 5.44l.94 2.06.94-2.06 2.06-.94-2.06-.94-.94-2.06-.94 2.06-2.06.94zm-11 1L8.5 8.5l.94-2.06 2.06-.94-2.06-.94L8.5 2.5l-.94 2.06-2.06.94zm10 10l.94 2.06.94-2.06 2.06-.94-2.06-.94-.94-2.06-.94 2.06-2.06.94z\"/><path d=\"M17.41 7.96l-1.37-1.37c-.4-.4-.92-.59-1.43-.59-.52 0-1.04.2-1.43.59L10.3 9.45l-7.72 7.72c-.78.78-.78 2.05 0 2.83L4 21.41c.39.39.9.59 1.41.59.51 0 1.02-.2 1.41-.59l7.78-7.78 2.81-2.81c.8-.78.8-2.07 0-2.86zM5.41 20L4 18.59l7.72-7.72 1.47 1.35L5.41 20z\"/>\n",
              "  </svg>\n",
              "      </button>\n",
              "      \n",
              "  <style>\n",
              "    .colab-df-container {\n",
              "      display:flex;\n",
              "      flex-wrap:wrap;\n",
              "      gap: 12px;\n",
              "    }\n",
              "\n",
              "    .colab-df-convert {\n",
              "      background-color: #E8F0FE;\n",
              "      border: none;\n",
              "      border-radius: 50%;\n",
              "      cursor: pointer;\n",
              "      display: none;\n",
              "      fill: #1967D2;\n",
              "      height: 32px;\n",
              "      padding: 0 0 0 0;\n",
              "      width: 32px;\n",
              "    }\n",
              "\n",
              "    .colab-df-convert:hover {\n",
              "      background-color: #E2EBFA;\n",
              "      box-shadow: 0px 1px 2px rgba(60, 64, 67, 0.3), 0px 1px 3px 1px rgba(60, 64, 67, 0.15);\n",
              "      fill: #174EA6;\n",
              "    }\n",
              "\n",
              "    [theme=dark] .colab-df-convert {\n",
              "      background-color: #3B4455;\n",
              "      fill: #D2E3FC;\n",
              "    }\n",
              "\n",
              "    [theme=dark] .colab-df-convert:hover {\n",
              "      background-color: #434B5C;\n",
              "      box-shadow: 0px 1px 3px 1px rgba(0, 0, 0, 0.15);\n",
              "      filter: drop-shadow(0px 1px 2px rgba(0, 0, 0, 0.3));\n",
              "      fill: #FFFFFF;\n",
              "    }\n",
              "  </style>\n",
              "\n",
              "      <script>\n",
              "        const buttonEl =\n",
              "          document.querySelector('#df-613f575d-bdd2-439b-a9df-c17b7806c702 button.colab-df-convert');\n",
              "        buttonEl.style.display =\n",
              "          google.colab.kernel.accessAllowed ? 'block' : 'none';\n",
              "\n",
              "        async function convertToInteractive(key) {\n",
              "          const element = document.querySelector('#df-613f575d-bdd2-439b-a9df-c17b7806c702');\n",
              "          const dataTable =\n",
              "            await google.colab.kernel.invokeFunction('convertToInteractive',\n",
              "                                                     [key], {});\n",
              "          if (!dataTable) return;\n",
              "\n",
              "          const docLinkHtml = 'Like what you see? Visit the ' +\n",
              "            '<a target=\"_blank\" href=https://colab.research.google.com/notebooks/data_table.ipynb>data table notebook</a>'\n",
              "            + ' to learn more about interactive tables.';\n",
              "          element.innerHTML = '';\n",
              "          dataTable['output_type'] = 'display_data';\n",
              "          await google.colab.output.renderOutput(dataTable, element);\n",
              "          const docLink = document.createElement('div');\n",
              "          docLink.innerHTML = docLinkHtml;\n",
              "          element.appendChild(docLink);\n",
              "        }\n",
              "      </script>\n",
              "    </div>\n",
              "  </div>\n",
              "  "
            ]
          },
          "metadata": {},
          "execution_count": 16
        }
      ]
    },
    {
      "cell_type": "code",
      "execution_count": 17,
      "id": "21bf6649",
      "metadata": {
        "id": "21bf6649",
        "colab": {
          "base_uri": "https://localhost:8080/"
        },
        "outputId": "6dc05427-66e5-49d0-b544-8c10ad1d0fa1"
      },
      "outputs": [
        {
          "output_type": "execute_result",
          "data": {
            "text/plain": [
              "(sales                  2\n",
              " month                  2\n",
              " month_sin              2\n",
              " month_cos              2\n",
              " sales_lag_1            1\n",
              " sales_window_2W_avg    2\n",
              " sales_window_4W_avg    4\n",
              " sales_window_2W_max    2\n",
              " sales_window_4W_max    4\n",
              " sales_window_2W_min    2\n",
              " sales_window_4W_min    4\n",
              " dtype: int64,\n",
              " sales                  0.018868\n",
              " month                  0.018868\n",
              " month_sin              0.018868\n",
              " month_cos              0.018868\n",
              " sales_lag_1            0.009434\n",
              " sales_window_2W_avg    0.018868\n",
              " sales_window_4W_avg    0.037736\n",
              " sales_window_2W_max    0.018868\n",
              " sales_window_4W_max    0.037736\n",
              " sales_window_2W_min    0.018868\n",
              " sales_window_4W_min    0.037736\n",
              " dtype: float64)"
            ]
          },
          "metadata": {},
          "execution_count": 17
        }
      ],
      "source": [
        "# Drop missing data.\n",
        "\n",
        "df.isnull().sum(), df.isnull().sum() / len(df)"
      ]
    },
    {
      "cell_type": "code",
      "source": [
        "print(\"data size before na treatement :\")\n",
        "print(df.shape)\n",
        "\n",
        "df.dropna(inplace=True)                   # Dropping missing data\n",
        "\n",
        "print(\"\\ndata size after na treatement :\")\n",
        "print(df.shape)"
      ],
      "metadata": {
        "colab": {
          "base_uri": "https://localhost:8080/"
        },
        "id": "vHeIStx2DAH8",
        "outputId": "c70bbf80-f8ee-4001-8065-bc92d17aac96"
      },
      "id": "vHeIStx2DAH8",
      "execution_count": 18,
      "outputs": [
        {
          "output_type": "stream",
          "name": "stdout",
          "text": [
            "data size before na treatement :\n",
            "(106, 11)\n",
            "\n",
            "data size after na treatement :\n",
            "(101, 11)\n"
          ]
        }
      ]
    },
    {
      "cell_type": "code",
      "execution_count": 19,
      "id": "3da3e350",
      "metadata": {
        "id": "3da3e350",
        "colab": {
          "base_uri": "https://localhost:8080/",
          "height": 388
        },
        "outputId": "ea99cb10-3484-430c-f96f-b274f7353869"
      },
      "outputs": [
        {
          "output_type": "execute_result",
          "data": {
            "text/plain": [
              "            month  month_sin  month_cos  sales_lag_1  sales_window_2W_avg  \\\n",
              "week                                                                        \n",
              "2010-01-10    1.0   0.500000   0.866025        0.000           11003.8850   \n",
              "2010-01-17    1.0   0.500000   0.866025   112318.850           56159.4250   \n",
              "2010-01-24    1.0   0.500000   0.866025   111460.470          111889.6600   \n",
              "2010-01-31    1.0   0.500000   0.866025    82065.331           96762.9005   \n",
              "2010-02-07    2.0   0.866025   0.500000   110790.591           96427.9610   \n",
              "\n",
              "            sales_window_4W_avg  sales_window_2W_max  sales_window_4W_max  \\\n",
              "week                                                                        \n",
              "2010-01-10         100053.63750            22007.770            195810.04   \n",
              "2010-01-17          79180.84000           112318.850            182396.74   \n",
              "2010-01-24          61446.77250           112318.850            112318.85   \n",
              "2010-01-31          76461.16275           111460.470            112318.85   \n",
              "2010-02-07         104158.81050           110790.591            112318.85   \n",
              "\n",
              "            sales_window_2W_min  sales_window_4W_min  \n",
              "week                                                  \n",
              "2010-01-10                0.000                0.000  \n",
              "2010-01-17                0.000                0.000  \n",
              "2010-01-24           111460.470                0.000  \n",
              "2010-01-31            82065.331                0.000  \n",
              "2010-02-07            82065.331            82065.331  "
            ],
            "text/html": [
              "\n",
              "  <div id=\"df-04a2ff13-134c-41d8-9551-ddb551f14ae1\">\n",
              "    <div class=\"colab-df-container\">\n",
              "      <div>\n",
              "<style scoped>\n",
              "    .dataframe tbody tr th:only-of-type {\n",
              "        vertical-align: middle;\n",
              "    }\n",
              "\n",
              "    .dataframe tbody tr th {\n",
              "        vertical-align: top;\n",
              "    }\n",
              "\n",
              "    .dataframe thead th {\n",
              "        text-align: right;\n",
              "    }\n",
              "</style>\n",
              "<table border=\"1\" class=\"dataframe\">\n",
              "  <thead>\n",
              "    <tr style=\"text-align: right;\">\n",
              "      <th></th>\n",
              "      <th>month</th>\n",
              "      <th>month_sin</th>\n",
              "      <th>month_cos</th>\n",
              "      <th>sales_lag_1</th>\n",
              "      <th>sales_window_2W_avg</th>\n",
              "      <th>sales_window_4W_avg</th>\n",
              "      <th>sales_window_2W_max</th>\n",
              "      <th>sales_window_4W_max</th>\n",
              "      <th>sales_window_2W_min</th>\n",
              "      <th>sales_window_4W_min</th>\n",
              "    </tr>\n",
              "    <tr>\n",
              "      <th>week</th>\n",
              "      <th></th>\n",
              "      <th></th>\n",
              "      <th></th>\n",
              "      <th></th>\n",
              "      <th></th>\n",
              "      <th></th>\n",
              "      <th></th>\n",
              "      <th></th>\n",
              "      <th></th>\n",
              "      <th></th>\n",
              "    </tr>\n",
              "  </thead>\n",
              "  <tbody>\n",
              "    <tr>\n",
              "      <th>2010-01-10</th>\n",
              "      <td>1.0</td>\n",
              "      <td>0.500000</td>\n",
              "      <td>0.866025</td>\n",
              "      <td>0.000</td>\n",
              "      <td>11003.8850</td>\n",
              "      <td>100053.63750</td>\n",
              "      <td>22007.770</td>\n",
              "      <td>195810.04</td>\n",
              "      <td>0.000</td>\n",
              "      <td>0.000</td>\n",
              "    </tr>\n",
              "    <tr>\n",
              "      <th>2010-01-17</th>\n",
              "      <td>1.0</td>\n",
              "      <td>0.500000</td>\n",
              "      <td>0.866025</td>\n",
              "      <td>112318.850</td>\n",
              "      <td>56159.4250</td>\n",
              "      <td>79180.84000</td>\n",
              "      <td>112318.850</td>\n",
              "      <td>182396.74</td>\n",
              "      <td>0.000</td>\n",
              "      <td>0.000</td>\n",
              "    </tr>\n",
              "    <tr>\n",
              "      <th>2010-01-24</th>\n",
              "      <td>1.0</td>\n",
              "      <td>0.500000</td>\n",
              "      <td>0.866025</td>\n",
              "      <td>111460.470</td>\n",
              "      <td>111889.6600</td>\n",
              "      <td>61446.77250</td>\n",
              "      <td>112318.850</td>\n",
              "      <td>112318.85</td>\n",
              "      <td>111460.470</td>\n",
              "      <td>0.000</td>\n",
              "    </tr>\n",
              "    <tr>\n",
              "      <th>2010-01-31</th>\n",
              "      <td>1.0</td>\n",
              "      <td>0.500000</td>\n",
              "      <td>0.866025</td>\n",
              "      <td>82065.331</td>\n",
              "      <td>96762.9005</td>\n",
              "      <td>76461.16275</td>\n",
              "      <td>111460.470</td>\n",
              "      <td>112318.85</td>\n",
              "      <td>82065.331</td>\n",
              "      <td>0.000</td>\n",
              "    </tr>\n",
              "    <tr>\n",
              "      <th>2010-02-07</th>\n",
              "      <td>2.0</td>\n",
              "      <td>0.866025</td>\n",
              "      <td>0.500000</td>\n",
              "      <td>110790.591</td>\n",
              "      <td>96427.9610</td>\n",
              "      <td>104158.81050</td>\n",
              "      <td>110790.591</td>\n",
              "      <td>112318.85</td>\n",
              "      <td>82065.331</td>\n",
              "      <td>82065.331</td>\n",
              "    </tr>\n",
              "  </tbody>\n",
              "</table>\n",
              "</div>\n",
              "      <button class=\"colab-df-convert\" onclick=\"convertToInteractive('df-04a2ff13-134c-41d8-9551-ddb551f14ae1')\"\n",
              "              title=\"Convert this dataframe to an interactive table.\"\n",
              "              style=\"display:none;\">\n",
              "        \n",
              "  <svg xmlns=\"http://www.w3.org/2000/svg\" height=\"24px\"viewBox=\"0 0 24 24\"\n",
              "       width=\"24px\">\n",
              "    <path d=\"M0 0h24v24H0V0z\" fill=\"none\"/>\n",
              "    <path d=\"M18.56 5.44l.94 2.06.94-2.06 2.06-.94-2.06-.94-.94-2.06-.94 2.06-2.06.94zm-11 1L8.5 8.5l.94-2.06 2.06-.94-2.06-.94L8.5 2.5l-.94 2.06-2.06.94zm10 10l.94 2.06.94-2.06 2.06-.94-2.06-.94-.94-2.06-.94 2.06-2.06.94z\"/><path d=\"M17.41 7.96l-1.37-1.37c-.4-.4-.92-.59-1.43-.59-.52 0-1.04.2-1.43.59L10.3 9.45l-7.72 7.72c-.78.78-.78 2.05 0 2.83L4 21.41c.39.39.9.59 1.41.59.51 0 1.02-.2 1.41-.59l7.78-7.78 2.81-2.81c.8-.78.8-2.07 0-2.86zM5.41 20L4 18.59l7.72-7.72 1.47 1.35L5.41 20z\"/>\n",
              "  </svg>\n",
              "      </button>\n",
              "      \n",
              "  <style>\n",
              "    .colab-df-container {\n",
              "      display:flex;\n",
              "      flex-wrap:wrap;\n",
              "      gap: 12px;\n",
              "    }\n",
              "\n",
              "    .colab-df-convert {\n",
              "      background-color: #E8F0FE;\n",
              "      border: none;\n",
              "      border-radius: 50%;\n",
              "      cursor: pointer;\n",
              "      display: none;\n",
              "      fill: #1967D2;\n",
              "      height: 32px;\n",
              "      padding: 0 0 0 0;\n",
              "      width: 32px;\n",
              "    }\n",
              "\n",
              "    .colab-df-convert:hover {\n",
              "      background-color: #E2EBFA;\n",
              "      box-shadow: 0px 1px 2px rgba(60, 64, 67, 0.3), 0px 1px 3px 1px rgba(60, 64, 67, 0.15);\n",
              "      fill: #174EA6;\n",
              "    }\n",
              "\n",
              "    [theme=dark] .colab-df-convert {\n",
              "      background-color: #3B4455;\n",
              "      fill: #D2E3FC;\n",
              "    }\n",
              "\n",
              "    [theme=dark] .colab-df-convert:hover {\n",
              "      background-color: #434B5C;\n",
              "      box-shadow: 0px 1px 3px 1px rgba(0, 0, 0, 0.15);\n",
              "      filter: drop-shadow(0px 1px 2px rgba(0, 0, 0, 0.3));\n",
              "      fill: #FFFFFF;\n",
              "    }\n",
              "  </style>\n",
              "\n",
              "      <script>\n",
              "        const buttonEl =\n",
              "          document.querySelector('#df-04a2ff13-134c-41d8-9551-ddb551f14ae1 button.colab-df-convert');\n",
              "        buttonEl.style.display =\n",
              "          google.colab.kernel.accessAllowed ? 'block' : 'none';\n",
              "\n",
              "        async function convertToInteractive(key) {\n",
              "          const element = document.querySelector('#df-04a2ff13-134c-41d8-9551-ddb551f14ae1');\n",
              "          const dataTable =\n",
              "            await google.colab.kernel.invokeFunction('convertToInteractive',\n",
              "                                                     [key], {});\n",
              "          if (!dataTable) return;\n",
              "\n",
              "          const docLinkHtml = 'Like what you see? Visit the ' +\n",
              "            '<a target=\"_blank\" href=https://colab.research.google.com/notebooks/data_table.ipynb>data table notebook</a>'\n",
              "            + ' to learn more about interactive tables.';\n",
              "          element.innerHTML = '';\n",
              "          dataTable['output_type'] = 'display_data';\n",
              "          await google.colab.output.renderOutput(dataTable, element);\n",
              "          const docLink = document.createElement('div');\n",
              "          docLink.innerHTML = docLinkHtml;\n",
              "          element.appendChild(docLink);\n",
              "        }\n",
              "      </script>\n",
              "    </div>\n",
              "  </div>\n",
              "  "
            ]
          },
          "metadata": {},
          "execution_count": 19
        }
      ],
      "source": [
        "# Drop original time series\n",
        "\n",
        "drop_og_ts = DropFeatures(features_to_drop=['sales'])\n",
        "df = drop_og_ts.fit_transform(df)\n",
        "df.head()"
      ]
    },
    {
      "cell_type": "code",
      "source": [
        "df.shape"
      ],
      "metadata": {
        "colab": {
          "base_uri": "https://localhost:8080/"
        },
        "id": "U98tY1K4ZJnm",
        "outputId": "704cf344-36f3-404d-d19f-bdc947c61a0e"
      },
      "id": "U98tY1K4ZJnm",
      "execution_count": 20,
      "outputs": [
        {
          "output_type": "execute_result",
          "data": {
            "text/plain": [
              "(101, 10)"
            ]
          },
          "metadata": {},
          "execution_count": 20
        }
      ]
    },
    {
      "cell_type": "code",
      "source": [
        "df.to_csv(\"/content/processed_online_retail_dataset_01.csv\")"
      ],
      "metadata": {
        "id": "D0trjNq4dpcx"
      },
      "id": "D0trjNq4dpcx",
      "execution_count": 21,
      "outputs": []
    },
    {
      "cell_type": "markdown",
      "source": [
        "<h2><font face='Comic Sans MS' color='darkblue'><strong> Section 2<font color='blue'> Developing pipeline for Feature Engineering"
      ],
      "metadata": {
        "id": "Ujmy11DD_nPk"
      },
      "id": "Ujmy11DD_nPk"
    },
    {
      "cell_type": "markdown",
      "id": "20ae8079",
      "metadata": {
        "id": "20ae8079"
      },
      "source": [
        "## ML Workflow\n",
        "\n",
        "- Load the data again.\n",
        "- Split the data into a suitable train and test set.\n",
        "- Align all feature engineering steps in a pipeline.\n",
        "- Create the features.\n",
        "- Train a model.\n",
        "- Evaluate the model."
      ]
    },
    {
      "cell_type": "code",
      "execution_count": 60,
      "id": "cd2c7291",
      "metadata": {
        "id": "cd2c7291",
        "outputId": "b74a5688-fb1f-4168-a68a-7f8e3295327b",
        "colab": {
          "base_uri": "https://localhost:8080/",
          "height": 237
        }
      },
      "outputs": [
        {
          "output_type": "execute_result",
          "data": {
            "text/plain": [
              "                sales\n",
              "week                 \n",
              "2009-12-06  213000.35\n",
              "2009-12-13  195810.04\n",
              "2009-12-20  182396.74\n",
              "2009-12-27   22007.77\n",
              "2010-01-03       0.00"
            ],
            "text/html": [
              "\n",
              "  <div id=\"df-70f6bb30-0ed8-4cfa-ab42-c6cbdbc16d81\">\n",
              "    <div class=\"colab-df-container\">\n",
              "      <div>\n",
              "<style scoped>\n",
              "    .dataframe tbody tr th:only-of-type {\n",
              "        vertical-align: middle;\n",
              "    }\n",
              "\n",
              "    .dataframe tbody tr th {\n",
              "        vertical-align: top;\n",
              "    }\n",
              "\n",
              "    .dataframe thead th {\n",
              "        text-align: right;\n",
              "    }\n",
              "</style>\n",
              "<table border=\"1\" class=\"dataframe\">\n",
              "  <thead>\n",
              "    <tr style=\"text-align: right;\">\n",
              "      <th></th>\n",
              "      <th>sales</th>\n",
              "    </tr>\n",
              "    <tr>\n",
              "      <th>week</th>\n",
              "      <th></th>\n",
              "    </tr>\n",
              "  </thead>\n",
              "  <tbody>\n",
              "    <tr>\n",
              "      <th>2009-12-06</th>\n",
              "      <td>213000.35</td>\n",
              "    </tr>\n",
              "    <tr>\n",
              "      <th>2009-12-13</th>\n",
              "      <td>195810.04</td>\n",
              "    </tr>\n",
              "    <tr>\n",
              "      <th>2009-12-20</th>\n",
              "      <td>182396.74</td>\n",
              "    </tr>\n",
              "    <tr>\n",
              "      <th>2009-12-27</th>\n",
              "      <td>22007.77</td>\n",
              "    </tr>\n",
              "    <tr>\n",
              "      <th>2010-01-03</th>\n",
              "      <td>0.00</td>\n",
              "    </tr>\n",
              "  </tbody>\n",
              "</table>\n",
              "</div>\n",
              "      <button class=\"colab-df-convert\" onclick=\"convertToInteractive('df-70f6bb30-0ed8-4cfa-ab42-c6cbdbc16d81')\"\n",
              "              title=\"Convert this dataframe to an interactive table.\"\n",
              "              style=\"display:none;\">\n",
              "        \n",
              "  <svg xmlns=\"http://www.w3.org/2000/svg\" height=\"24px\"viewBox=\"0 0 24 24\"\n",
              "       width=\"24px\">\n",
              "    <path d=\"M0 0h24v24H0V0z\" fill=\"none\"/>\n",
              "    <path d=\"M18.56 5.44l.94 2.06.94-2.06 2.06-.94-2.06-.94-.94-2.06-.94 2.06-2.06.94zm-11 1L8.5 8.5l.94-2.06 2.06-.94-2.06-.94L8.5 2.5l-.94 2.06-2.06.94zm10 10l.94 2.06.94-2.06 2.06-.94-2.06-.94-.94-2.06-.94 2.06-2.06.94z\"/><path d=\"M17.41 7.96l-1.37-1.37c-.4-.4-.92-.59-1.43-.59-.52 0-1.04.2-1.43.59L10.3 9.45l-7.72 7.72c-.78.78-.78 2.05 0 2.83L4 21.41c.39.39.9.59 1.41.59.51 0 1.02-.2 1.41-.59l7.78-7.78 2.81-2.81c.8-.78.8-2.07 0-2.86zM5.41 20L4 18.59l7.72-7.72 1.47 1.35L5.41 20z\"/>\n",
              "  </svg>\n",
              "      </button>\n",
              "      \n",
              "  <style>\n",
              "    .colab-df-container {\n",
              "      display:flex;\n",
              "      flex-wrap:wrap;\n",
              "      gap: 12px;\n",
              "    }\n",
              "\n",
              "    .colab-df-convert {\n",
              "      background-color: #E8F0FE;\n",
              "      border: none;\n",
              "      border-radius: 50%;\n",
              "      cursor: pointer;\n",
              "      display: none;\n",
              "      fill: #1967D2;\n",
              "      height: 32px;\n",
              "      padding: 0 0 0 0;\n",
              "      width: 32px;\n",
              "    }\n",
              "\n",
              "    .colab-df-convert:hover {\n",
              "      background-color: #E2EBFA;\n",
              "      box-shadow: 0px 1px 2px rgba(60, 64, 67, 0.3), 0px 1px 3px 1px rgba(60, 64, 67, 0.15);\n",
              "      fill: #174EA6;\n",
              "    }\n",
              "\n",
              "    [theme=dark] .colab-df-convert {\n",
              "      background-color: #3B4455;\n",
              "      fill: #D2E3FC;\n",
              "    }\n",
              "\n",
              "    [theme=dark] .colab-df-convert:hover {\n",
              "      background-color: #434B5C;\n",
              "      box-shadow: 0px 1px 3px 1px rgba(0, 0, 0, 0.15);\n",
              "      filter: drop-shadow(0px 1px 2px rgba(0, 0, 0, 0.3));\n",
              "      fill: #FFFFFF;\n",
              "    }\n",
              "  </style>\n",
              "\n",
              "      <script>\n",
              "        const buttonEl =\n",
              "          document.querySelector('#df-70f6bb30-0ed8-4cfa-ab42-c6cbdbc16d81 button.colab-df-convert');\n",
              "        buttonEl.style.display =\n",
              "          google.colab.kernel.accessAllowed ? 'block' : 'none';\n",
              "\n",
              "        async function convertToInteractive(key) {\n",
              "          const element = document.querySelector('#df-70f6bb30-0ed8-4cfa-ab42-c6cbdbc16d81');\n",
              "          const dataTable =\n",
              "            await google.colab.kernel.invokeFunction('convertToInteractive',\n",
              "                                                     [key], {});\n",
              "          if (!dataTable) return;\n",
              "\n",
              "          const docLinkHtml = 'Like what you see? Visit the ' +\n",
              "            '<a target=\"_blank\" href=https://colab.research.google.com/notebooks/data_table.ipynb>data table notebook</a>'\n",
              "            + ' to learn more about interactive tables.';\n",
              "          element.innerHTML = '';\n",
              "          dataTable['output_type'] = 'display_data';\n",
              "          await google.colab.output.renderOutput(dataTable, element);\n",
              "          const docLink = document.createElement('div');\n",
              "          docLink.innerHTML = docLinkHtml;\n",
              "          element.appendChild(docLink);\n",
              "        }\n",
              "      </script>\n",
              "    </div>\n",
              "  </div>\n",
              "  "
            ]
          },
          "metadata": {},
          "execution_count": 60
        }
      ],
      "source": [
        "# load weekly sales dataset\n",
        "\n",
        "# adjust the following function based on where \n",
        "# you stored the dataset\n",
        "#filename = \"../../../Datasets/online_retail_dataset.csv\"\n",
        "filename = \"/content/online_retail_dataset.csv\"\n",
        "\n",
        "df = pd.read_csv(\n",
        "    filename,\n",
        "    usecols=[\"week\", \"United Kingdom\"],\n",
        "    parse_dates=[\"week\"],\n",
        "    index_col=[\"week\"],\n",
        ")\n",
        "\n",
        "df.columns = ['sales']\n",
        "\n",
        "df.head()"
      ]
    },
    {
      "cell_type": "code",
      "source": [
        "df.sort_index(inplace=True)"
      ],
      "metadata": {
        "id": "evuSCWrZ0UGW"
      },
      "id": "evuSCWrZ0UGW",
      "execution_count": 61,
      "outputs": []
    },
    {
      "cell_type": "code",
      "execution_count": 62,
      "id": "659771af",
      "metadata": {
        "id": "659771af",
        "outputId": "81d1c727-e746-4ed4-d77a-1cabfdb3f5ef",
        "colab": {
          "base_uri": "https://localhost:8080/"
        }
      },
      "outputs": [
        {
          "output_type": "execute_result",
          "data": {
            "text/plain": [
              "(Timestamp('2009-12-06 00:00:00'), Timestamp('2011-12-11 00:00:00'), 106)"
            ]
          },
          "metadata": {},
          "execution_count": 62
        }
      ],
      "source": [
        "df.index.min(), df.index.max(), df.shape[0]"
      ]
    },
    {
      "cell_type": "code",
      "source": [
        "type(df.index)"
      ],
      "metadata": {
        "colab": {
          "base_uri": "https://localhost:8080/"
        },
        "id": "mEXcjIlW-Y63",
        "outputId": "a4c8e4e1-fb24-4240-f90c-00d182e68100"
      },
      "id": "mEXcjIlW-Y63",
      "execution_count": 63,
      "outputs": [
        {
          "output_type": "execute_result",
          "data": {
            "text/plain": [
              "pandas.core.indexes.datetimes.DatetimeIndex"
            ]
          },
          "metadata": {},
          "execution_count": 63
        }
      ]
    },
    {
      "cell_type": "markdown",
      "source": [
        "We have only 106 nos of observations, which is very less number.\n",
        "\n",
        "we will take last 20 observations as test data."
      ],
      "metadata": {
        "id": "5XC5nbOpoq9i"
      },
      "id": "5XC5nbOpoq9i"
    },
    {
      "cell_type": "code",
      "source": [
        "# The offset for the test set\n",
        "\n",
        "df.index[[-21]]"
      ],
      "metadata": {
        "colab": {
          "base_uri": "https://localhost:8080/"
        },
        "id": "b4sBpjOxoMJZ",
        "outputId": "11abf114-c331-4b7c-ff24-a3a82bb0521e"
      },
      "id": "b4sBpjOxoMJZ",
      "execution_count": 64,
      "outputs": [
        {
          "output_type": "execute_result",
          "data": {
            "text/plain": [
              "DatetimeIndex(['2011-07-24'], dtype='datetime64[ns]', name='week', freq=None)"
            ]
          },
          "metadata": {},
          "execution_count": 64
        }
      ]
    },
    {
      "cell_type": "code",
      "execution_count": 65,
      "id": "6fdf4902",
      "metadata": {
        "id": "6fdf4902",
        "colab": {
          "base_uri": "https://localhost:8080/"
        },
        "outputId": "dfc88274-3abe-4fb4-fc4f-6bfcd210d2d6"
      },
      "outputs": [
        {
          "output_type": "execute_result",
          "data": {
            "text/plain": [
              "((86, 1), (20, 1))"
            ]
          },
          "metadata": {},
          "execution_count": 65
        }
      ],
      "source": [
        "# Split the data in time.\n",
        "\n",
        "X_train = df[df.index <= \"2011-07-24\"]\n",
        "X_test = df[df.index > \"2011-07-24\"]\n",
        "\n",
        "X_train.shape, X_test.shape"
      ]
    },
    {
      "cell_type": "code",
      "execution_count": 66,
      "id": "28389d50",
      "metadata": {
        "id": "28389d50"
      },
      "outputs": [],
      "source": [
        "# Target (in this dataset, it is the train set itself)\n",
        "\n",
        "y_train = X_train['sales'].copy()\n",
        "y_test = X_test['sales'].copy()"
      ]
    },
    {
      "cell_type": "code",
      "source": [
        "y_train.head()"
      ],
      "metadata": {
        "colab": {
          "base_uri": "https://localhost:8080/"
        },
        "id": "jb5wdn--WfBj",
        "outputId": "36f736ea-6c4d-45da-cc74-306ac69565dc"
      },
      "id": "jb5wdn--WfBj",
      "execution_count": 67,
      "outputs": [
        {
          "output_type": "execute_result",
          "data": {
            "text/plain": [
              "week\n",
              "2009-12-06    213000.35\n",
              "2009-12-13    195810.04\n",
              "2009-12-20    182396.74\n",
              "2009-12-27     22007.77\n",
              "2010-01-03         0.00\n",
              "Name: sales, dtype: float64"
            ]
          },
          "metadata": {},
          "execution_count": 67
        }
      ]
    },
    {
      "cell_type": "markdown",
      "source": [
        "## Feature Engineering Pipeline"
      ],
      "metadata": {
        "id": "XwYjd1hJx3Fq"
      },
      "id": "XwYjd1hJx3Fq"
    },
    {
      "cell_type": "code",
      "source": [
        "#01) Datetime features: Create the feature **month** from the timestamp.\n",
        "\n",
        "dtf = DatetimeFeatures(\n",
        "    variables=\"index\",\n",
        "    features_to_extract=[\"month\"]\n",
        ")"
      ],
      "metadata": {
        "id": "U356yzHSyASL"
      },
      "id": "U356yzHSyASL",
      "execution_count": 68,
      "outputs": []
    },
    {
      "cell_type": "code",
      "source": [
        "#02) Cyclical features: transform the month with the sine and cosine functions.\n",
        "\n",
        "cyclic_f = CyclicalFeatures(\n",
        "    variables=[\"sales\"],\n",
        "    drop_original=False\n",
        ")"
      ],
      "metadata": {
        "id": "snFaI0_5yoKQ"
      },
      "id": "snFaI0_5yoKQ",
      "execution_count": 69,
      "outputs": []
    },
    {
      "cell_type": "code",
      "source": [
        "#03) Lag features: Create the feature lag-1 by lagging 1 week of data.\n",
        "\n",
        "lag_f = LagFeatures(\n",
        "    variables=[\"sales\"],\n",
        "    freq=[\"1W\"],\n",
        "    missing_values=\"ignore\"\n",
        ")"
      ],
      "metadata": {
        "id": "pdAeIhuDyoBE"
      },
      "id": "pdAeIhuDyoBE",
      "execution_count": 70,
      "outputs": []
    },
    {
      "cell_type": "code",
      "source": [
        "#04) Window features: take the min, max and average sales values in the past 2 and 4 weeks of data.\n",
        "\n",
        "window_f = WindowFeatures(\n",
        "    variables=[\"sales\"],\n",
        "    freq=\"1W\",\n",
        "    window=[\"14D\", \"28D\"],\n",
        "    periods=1,\n",
        "    functions=[\"min\", \"max\", \"mean\"]\n",
        ")"
      ],
      "metadata": {
        "id": "ToPaLuMWynkK"
      },
      "id": "ToPaLuMWynkK",
      "execution_count": 71,
      "outputs": []
    },
    {
      "cell_type": "code",
      "source": [
        "#05) Drop missing data.\n",
        "\n",
        "drop_na = DropMissingData()"
      ],
      "metadata": {
        "id": "8T56mPI4yyNn"
      },
      "id": "8T56mPI4yyNn",
      "execution_count": 72,
      "outputs": []
    },
    {
      "cell_type": "code",
      "source": [
        "#06) Drop Original time series\n",
        "\n",
        "drop_og_ts = DropFeatures(features_to_drop=[\"sales\"])"
      ],
      "metadata": {
        "id": "v2fFSYk8dlZ_"
      },
      "id": "v2fFSYk8dlZ_",
      "execution_count": 73,
      "outputs": []
    },
    {
      "cell_type": "markdown",
      "source": [
        "## Pipeline"
      ],
      "metadata": {
        "id": "uiUfdAlceT0V"
      },
      "id": "uiUfdAlceT0V"
    },
    {
      "cell_type": "code",
      "source": [
        "# Lets setup pipeline which will have all the above feature engineering steps\n",
        "\n",
        "fe_pipeline = Pipeline(\n",
        "    [\n",
        "      (\"datetime_feature\", dtf),\n",
        "      (\"cyclic_feature\", cyclic_f),\n",
        "      (\"lag_feature\", lag_f),\n",
        "      (\"window_feature\", window_f),\n",
        "      (\"drop_missing\", drop_na),\n",
        "      (\"drop_original_ts\", drop_og_ts)\n",
        "    ]\n",
        ")"
      ],
      "metadata": {
        "id": "WmYssYfbeWK9"
      },
      "id": "WmYssYfbeWK9",
      "execution_count": 74,
      "outputs": []
    },
    {
      "cell_type": "code",
      "source": [
        "# lets fit and transform the datasets\n",
        "\n",
        "fe_pipeline.fit(X_train)\n",
        "\n",
        "X_train = fe_pipeline.transform(X_train)\n",
        "X_test = fe_pipeline.transform(X_test)"
      ],
      "metadata": {
        "id": "WfZlOW4Ag0lW"
      },
      "id": "WfZlOW4Ag0lW",
      "execution_count": 75,
      "outputs": []
    },
    {
      "cell_type": "code",
      "source": [
        "# to avoid error's in evaluating model performance,\n",
        "# we will keep only those observations in target set which are left in depedent set after passing through pipeline\n",
        "\n",
        "y_train = y_train[X_train.index]\n",
        "y_test = y_test[X_test.index]"
      ],
      "metadata": {
        "id": "FV1kXHYZTc1d"
      },
      "id": "FV1kXHYZTc1d",
      "execution_count": 79,
      "outputs": []
    },
    {
      "cell_type": "markdown",
      "id": "4058260e",
      "metadata": {
        "id": "4058260e"
      },
      "source": [
        "<h2><font face='comic sans ms' color='darkblue'><strong> Machine Learning"
      ]
    },
    {
      "cell_type": "code",
      "execution_count": 80,
      "id": "eb62bab1",
      "metadata": {
        "id": "eb62bab1",
        "colab": {
          "base_uri": "https://localhost:8080/",
          "height": 130
        },
        "outputId": "28d08ff7-88b2-4829-a6c1-8e5488ccf8a3"
      },
      "outputs": [
        {
          "output_type": "stream",
          "name": "stderr",
          "text": [
            "/usr/local/lib/python3.10/dist-packages/sklearn/linear_model/_coordinate_descent.py:631: ConvergenceWarning: Objective did not converge. You might want to increase the number of iterations, check the scale of the features or consider increasing regularisation. Duality gap: 6.510e+09, tolerance: 2.911e+07\n",
            "  model = cd_fast.enet_coordinate_descent(\n"
          ]
        },
        {
          "output_type": "execute_result",
          "data": {
            "text/plain": [
              "Lasso(alpha=100, random_state=0)"
            ],
            "text/html": [
              "<style>#sk-container-id-1 {color: black;background-color: white;}#sk-container-id-1 pre{padding: 0;}#sk-container-id-1 div.sk-toggleable {background-color: white;}#sk-container-id-1 label.sk-toggleable__label {cursor: pointer;display: block;width: 100%;margin-bottom: 0;padding: 0.3em;box-sizing: border-box;text-align: center;}#sk-container-id-1 label.sk-toggleable__label-arrow:before {content: \"▸\";float: left;margin-right: 0.25em;color: #696969;}#sk-container-id-1 label.sk-toggleable__label-arrow:hover:before {color: black;}#sk-container-id-1 div.sk-estimator:hover label.sk-toggleable__label-arrow:before {color: black;}#sk-container-id-1 div.sk-toggleable__content {max-height: 0;max-width: 0;overflow: hidden;text-align: left;background-color: #f0f8ff;}#sk-container-id-1 div.sk-toggleable__content pre {margin: 0.2em;color: black;border-radius: 0.25em;background-color: #f0f8ff;}#sk-container-id-1 input.sk-toggleable__control:checked~div.sk-toggleable__content {max-height: 200px;max-width: 100%;overflow: auto;}#sk-container-id-1 input.sk-toggleable__control:checked~label.sk-toggleable__label-arrow:before {content: \"▾\";}#sk-container-id-1 div.sk-estimator input.sk-toggleable__control:checked~label.sk-toggleable__label {background-color: #d4ebff;}#sk-container-id-1 div.sk-label input.sk-toggleable__control:checked~label.sk-toggleable__label {background-color: #d4ebff;}#sk-container-id-1 input.sk-hidden--visually {border: 0;clip: rect(1px 1px 1px 1px);clip: rect(1px, 1px, 1px, 1px);height: 1px;margin: -1px;overflow: hidden;padding: 0;position: absolute;width: 1px;}#sk-container-id-1 div.sk-estimator {font-family: monospace;background-color: #f0f8ff;border: 1px dotted black;border-radius: 0.25em;box-sizing: border-box;margin-bottom: 0.5em;}#sk-container-id-1 div.sk-estimator:hover {background-color: #d4ebff;}#sk-container-id-1 div.sk-parallel-item::after {content: \"\";width: 100%;border-bottom: 1px solid gray;flex-grow: 1;}#sk-container-id-1 div.sk-label:hover label.sk-toggleable__label {background-color: #d4ebff;}#sk-container-id-1 div.sk-serial::before {content: \"\";position: absolute;border-left: 1px solid gray;box-sizing: border-box;top: 0;bottom: 0;left: 50%;z-index: 0;}#sk-container-id-1 div.sk-serial {display: flex;flex-direction: column;align-items: center;background-color: white;padding-right: 0.2em;padding-left: 0.2em;position: relative;}#sk-container-id-1 div.sk-item {position: relative;z-index: 1;}#sk-container-id-1 div.sk-parallel {display: flex;align-items: stretch;justify-content: center;background-color: white;position: relative;}#sk-container-id-1 div.sk-item::before, #sk-container-id-1 div.sk-parallel-item::before {content: \"\";position: absolute;border-left: 1px solid gray;box-sizing: border-box;top: 0;bottom: 0;left: 50%;z-index: -1;}#sk-container-id-1 div.sk-parallel-item {display: flex;flex-direction: column;z-index: 1;position: relative;background-color: white;}#sk-container-id-1 div.sk-parallel-item:first-child::after {align-self: flex-end;width: 50%;}#sk-container-id-1 div.sk-parallel-item:last-child::after {align-self: flex-start;width: 50%;}#sk-container-id-1 div.sk-parallel-item:only-child::after {width: 0;}#sk-container-id-1 div.sk-dashed-wrapped {border: 1px dashed gray;margin: 0 0.4em 0.5em 0.4em;box-sizing: border-box;padding-bottom: 0.4em;background-color: white;}#sk-container-id-1 div.sk-label label {font-family: monospace;font-weight: bold;display: inline-block;line-height: 1.2em;}#sk-container-id-1 div.sk-label-container {text-align: center;}#sk-container-id-1 div.sk-container {/* jupyter's `normalize.less` sets `[hidden] { display: none; }` but bootstrap.min.css set `[hidden] { display: none !important; }` so we also need the `!important` here to be able to override the default hidden behavior on the sphinx rendered scikit-learn.org. See: https://github.com/scikit-learn/scikit-learn/issues/21755 */display: inline-block !important;position: relative;}#sk-container-id-1 div.sk-text-repr-fallback {display: none;}</style><div id=\"sk-container-id-1\" class=\"sk-top-container\"><div class=\"sk-text-repr-fallback\"><pre>Lasso(alpha=100, random_state=0)</pre><b>In a Jupyter environment, please rerun this cell to show the HTML representation or trust the notebook. <br />On GitHub, the HTML representation is unable to render, please try loading this page with nbviewer.org.</b></div><div class=\"sk-container\" hidden><div class=\"sk-item\"><div class=\"sk-estimator sk-toggleable\"><input class=\"sk-toggleable__control sk-hidden--visually\" id=\"sk-estimator-id-1\" type=\"checkbox\" checked><label for=\"sk-estimator-id-1\" class=\"sk-toggleable__label sk-toggleable__label-arrow\">Lasso</label><div class=\"sk-toggleable__content\"><pre>Lasso(alpha=100, random_state=0)</pre></div></div></div></div></div>"
            ]
          },
          "metadata": {},
          "execution_count": 80
        }
      ],
      "source": [
        "# create linear (Lasso) model\n",
        "\n",
        "linear_model = Lasso(alpha=100, random_state=0)\n",
        "\n",
        "linear_model.fit(X_train, y_train)"
      ]
    },
    {
      "cell_type": "code",
      "execution_count": 81,
      "id": "4957673a",
      "metadata": {
        "id": "4957673a",
        "colab": {
          "base_uri": "https://localhost:8080/"
        },
        "outputId": "380c6bd4-821b-433f-fd66-e0f2edc303b7"
      },
      "outputs": [
        {
          "output_type": "stream",
          "name": "stdout",
          "text": [
            "train rmse:  28751.033265329264\n"
          ]
        }
      ],
      "source": [
        "# Performance of linear model on train dataset\n",
        "\n",
        "print(\"train rmse: \", mean_squared_error(\n",
        "    y_train, linear_model.predict(X_train), squared=False,))"
      ]
    },
    {
      "cell_type": "code",
      "source": [
        "# Performance of linear model on test dataset\n",
        "\n",
        "print(\"test rmse: \",  mean_squared_error(\n",
        "    y_test, linear_model.predict(X_test), squared=False,))"
      ],
      "metadata": {
        "colab": {
          "base_uri": "https://localhost:8080/"
        },
        "id": "RoZtubWJYERr",
        "outputId": "ee501082-96f9-4b4a-f534-20c75d42ad08"
      },
      "id": "RoZtubWJYERr",
      "execution_count": 82,
      "outputs": [
        {
          "output_type": "stream",
          "name": "stdout",
          "text": [
            "test rmse:  55685.440942628775\n"
          ]
        }
      ]
    }
  ],
  "metadata": {
    "kernelspec": {
      "display_name": "fsml",
      "language": "python",
      "name": "fsml"
    },
    "language_info": {
      "codemirror_mode": {
        "name": "ipython",
        "version": 3
      },
      "file_extension": ".py",
      "mimetype": "text/x-python",
      "name": "python",
      "nbconvert_exporter": "python",
      "pygments_lexer": "ipython3",
      "version": "3.10.5"
    },
    "toc": {
      "base_numbering": 1,
      "nav_menu": {},
      "number_sections": true,
      "sideBar": true,
      "skip_h1_title": false,
      "title_cell": "Table of Contents",
      "title_sidebar": "Contents",
      "toc_cell": false,
      "toc_position": {},
      "toc_section_display": true,
      "toc_window_display": true
    },
    "colab": {
      "provenance": []
    }
  },
  "nbformat": 4,
  "nbformat_minor": 5
}